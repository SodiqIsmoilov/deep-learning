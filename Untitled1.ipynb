{
 "cells": [
  {
   "cell_type": "code",
   "execution_count": 25,
   "id": "a75bb4e7-dd3f-42c7-88ae-a49e2b4ceafe",
   "metadata": {},
   "outputs": [],
   "source": [
    "import torch\n",
    "import tensorflow as tf\n",
    "import numpy as np"
   ]
  },
  {
   "cell_type": "markdown",
   "id": "103e338a-ad2d-4d8b-9757-61970b48edab",
   "metadata": {},
   "source": [
    "# masala - 1 torch bilan"
   ]
  },
  {
   "cell_type": "code",
   "execution_count": 43,
   "id": "a1e884da-d210-4dbe-b53a-29733f60ee94",
   "metadata": {},
   "outputs": [],
   "source": [
    "x = torch.tensor([\n",
    "    [ -8.,  -5.,   4.],\n",
    "    [  9.,   6.,  -7.],\n",
    "    [ -8.,  -9.,   1.],\n",
    "    [  2.,  -8.,  -6.],\n",
    "    [ -1.,  -8.,   6.],\n",
    "    [-10.,   1.,  -5.],\n",
    "    [ -3.,   9.,   0.],\n",
    "    [ -1.,   5.,   9.],\n",
    "    [  8.,  -1.,  -7.],\n",
    "    [  4.,   7.,  -4.]])\n",
    "\n",
    "w1 = 2\n",
    "w2 = -1.5\n",
    "w3 = 2\n",
    "b = 0.75\n",
    "\n",
    "# y = torch.tensor([[x[i][0]*w1+x[i][0]*w2+x[i][0]*w3 + b] for i in range(len(x))])\n",
    "y = torch.tensor([\n",
    "    [-19.25],\n",
    "    [ 23.25],\n",
    "    [-19.25],\n",
    "    [  5.75],\n",
    "    [ -1.75],\n",
    "    [-24.25],\n",
    "    [ -6.75],\n",
    "    [ -1.75],\n",
    "    [ 20.75],\n",
    "    [ 10.75]])"
   ]
  },
  {
   "cell_type": "code",
   "execution_count": 44,
   "id": "0529a87c-185a-46a5-bf9a-78e1bc4ee589",
   "metadata": {},
   "outputs": [],
   "source": [
    "class TorchANNModule(torch.nn.Module):\n",
    "    def __init__(self):\n",
    "        super().__init__()\n",
    "        self.linear1 = torch.nn.Linear(3,2, bias=True)\n",
    "        self.relu1 = torch.nn.ReLU()\n",
    "        self.linear2 = torch.nn.Linear(2,1)\n",
    "        \n",
    "    def forward(self, x):\n",
    "        y_bash = self.relu1(self.linear1(x))\n",
    "        y_bash = self.linear2(y_bash)\n",
    "        return y_bash"
   ]
  },
  {
   "cell_type": "code",
   "execution_count": 45,
   "id": "1d475e47-be0b-420c-94e1-6327c45ea47a",
   "metadata": {},
   "outputs": [],
   "source": [
    "model = TorchANNModule()\n",
    "loss = torch.nn.MSELoss(reduction=\"sum\")\n",
    "optimizer = torch.optim.SGD(model.parameters(), lr=0.001)"
   ]
  },
  {
   "cell_type": "code",
   "execution_count": 46,
   "id": "50eb5c4d-e2f9-4fcc-871a-d5d84e74c6ac",
   "metadata": {},
   "outputs": [
    {
     "name": "stdout",
     "output_type": "stream",
     "text": [
      "Loss : 3018.949462890625\n",
      "Loss : 352.0625305175781\n",
      "Loss : 400.781982421875\n",
      "Loss : 424.4385986328125\n",
      "Loss : 422.1813659667969\n",
      "Loss : 419.1417236328125\n",
      "Loss : 416.99542236328125\n",
      "Loss : 415.3714599609375\n",
      "Loss : 414.07708740234375\n",
      "Loss : 413.01287841796875\n"
     ]
    }
   ],
   "source": [
    "epochs = 1000\n",
    "for epoch in range(epochs):\n",
    "    y_bash = model(x)\n",
    "    xato = loss(y_bash, y)\n",
    "    \n",
    "    optimizer.zero_grad()\n",
    "    xato.backward()\n",
    "    optimizer.step()\n",
    "    \n",
    "    if epoch%100==0:\n",
    "        print(f\"Loss : {xato}\")"
   ]
  },
  {
   "cell_type": "code",
   "execution_count": null,
   "id": "785a7bc0-6b79-4fec-9240-a8ba80211035",
   "metadata": {},
   "outputs": [],
   "source": []
  },
  {
   "cell_type": "code",
   "execution_count": null,
   "id": "0ed98e2b-d951-49d7-9f11-fbb69fd8ef60",
   "metadata": {},
   "outputs": [],
   "source": []
  },
  {
   "cell_type": "code",
   "execution_count": null,
   "id": "cd954c93-80d8-4191-a085-b00ff83466c8",
   "metadata": {},
   "outputs": [],
   "source": []
  },
  {
   "cell_type": "code",
   "execution_count": null,
   "id": "efcc3ab6-8707-40b5-a0be-9a27c11d27f8",
   "metadata": {},
   "outputs": [],
   "source": []
  },
  {
   "cell_type": "code",
   "execution_count": null,
   "id": "afedb4d5-e717-4d88-844b-a4badf13f70e",
   "metadata": {},
   "outputs": [],
   "source": []
  }
 ],
 "metadata": {
  "kernelspec": {
   "display_name": "env",
   "language": "python",
   "name": "env"
  },
  "language_info": {
   "codemirror_mode": {
    "name": "ipython",
    "version": 3
   },
   "file_extension": ".py",
   "mimetype": "text/x-python",
   "name": "python",
   "nbconvert_exporter": "python",
   "pygments_lexer": "ipython3",
   "version": "3.10.5"
  }
 },
 "nbformat": 4,
 "nbformat_minor": 5
}
